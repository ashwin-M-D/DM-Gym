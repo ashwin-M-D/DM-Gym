{
 "cells": [
  {
   "cell_type": "markdown",
   "id": "1f37fc46",
   "metadata": {},
   "source": [
    "# K-Clustering using Reinforcement Learning\n",
    "\n",
    "## DM-Gym prototype testing\n",
    "\n",
    "### By Ashwin Devanga"
   ]
  },
  {
   "cell_type": "markdown",
   "id": "ea3e1c8a",
   "metadata": {},
   "source": [
    "#### Import Base Packages"
   ]
  },
  {
   "cell_type": "code",
   "execution_count": null,
   "id": "4fb31e83",
   "metadata": {},
   "outputs": [],
   "source": [
    "import numpy as np\n",
    "import pandas as pd\n",
    "\n",
    "from tqdm import tqdm\n",
    "\n",
    "import matplotlib.pyplot as plt"
   ]
  },
  {
   "cell_type": "markdown",
   "id": "f3595ad4",
   "metadata": {},
   "source": [
    "#### import datamining gym packages"
   ]
  },
  {
   "cell_type": "code",
   "execution_count": null,
   "id": "dbd9c947",
   "metadata": {},
   "outputs": [],
   "source": [
    "from dm_gym.utils.data_gen import data_gen_classification\n",
    "from dm_gym.create_env import ray_create_env"
   ]
  },
  {
   "cell_type": "markdown",
   "id": "7c1965e5",
   "metadata": {},
   "source": [
    "#### import ray packages for prebuilt RL models"
   ]
  },
  {
   "cell_type": "code",
   "execution_count": null,
   "id": "6985f356",
   "metadata": {},
   "outputs": [],
   "source": [
    "%%capture\n",
    "import ray\n",
    "from ray.rllib import agents\n",
    "from ray import tune"
   ]
  },
  {
   "cell_type": "markdown",
   "id": "9f6a77b5",
   "metadata": {},
   "source": [
    "#### Function to register environment with ray[tune]"
   ]
  },
  {
   "cell_type": "code",
   "execution_count": null,
   "id": "6776a01d",
   "metadata": {},
   "outputs": [],
   "source": [
    "def register_env(env_name, env_config={}):\n",
    "    env = ray_create_env(env_name)\n",
    "    tune.register_env(env_name, \n",
    "        lambda env_name: env(env_name,\n",
    "            env_config=env_config))"
   ]
  },
  {
   "cell_type": "markdown",
   "metadata": {},
   "source": [
    "#### If you want to use a custom directory to store ray results. The default directory is root/ray_results/*"
   ]
  },
  {
   "cell_type": "code",
   "execution_count": null,
   "metadata": {},
   "outputs": [],
   "source": [
    "from ray.tune.logger import Logger, UnifiedLogger\n",
    "import os\n",
    "import datetime\n",
    "import tempfile\n",
    "\n",
    "def custom_log_creator(custom_path, custom_str):\n",
    "\n",
    "    timestr = datetime.datetime.today().strftime(\"%Y-%m-%d_%H-%M-%S\")\n",
    "    logdir_prefix = \"{}_{}\".format(custom_str, timestr)\n",
    "\n",
    "    def logger_creator(config):\n",
    "\n",
    "        if not os.path.exists(custom_path):\n",
    "            os.makedirs(custom_path)\n",
    "        logdir = tempfile.mkdtemp(prefix=logdir_prefix, dir=custom_path)\n",
    "        return UnifiedLogger(config, logdir, loggers=None)\n",
    "\n",
    "    return logger_creator"
   ]
  },
  {
   "cell_type": "markdown",
   "id": "764c165e",
   "metadata": {},
   "source": [
    "#### Sample Data Generation (Simulated data)"
   ]
  },
  {
   "cell_type": "code",
   "execution_count": null,
   "id": "08150fab",
   "metadata": {},
   "outputs": [],
   "source": [
    "n = 5 ###Number of dimentions in the data\n",
    "k = 3 ###Number of classes we want in the data\n",
    "\n",
    "num_records = 1000\n",
    "parameter_means = []\n",
    "parameter_sd = []"
   ]
  },
  {
   "cell_type": "code",
   "execution_count": null,
   "id": "52859565",
   "metadata": {},
   "outputs": [],
   "source": [
    "data_gen = data_gen_classification()\n",
    "\n",
    "error, error_code, pm, psd = data_gen.param_init(n=n, k=k, num_records=num_records,\n",
    "                                                 parameter_means=parameter_means, parameter_sd=parameter_sd)\n",
    "data, target = data_gen.gen_data()"
   ]
  },
  {
   "cell_type": "code",
   "execution_count": null,
   "metadata": {},
   "outputs": [],
   "source": [
    "from sklearn.model_selection import train_test_split\n",
    "\n",
    "X_train, X_test, y_train, y_test = train_test_split(data, target, test_size=0.25)"
   ]
  },
  {
   "cell_type": "markdown",
   "id": "a355bb99",
   "metadata": {},
   "source": [
    "#### Run logistic regression model on the data"
   ]
  },
  {
   "cell_type": "code",
   "execution_count": null,
   "id": "483854f6",
   "metadata": {},
   "outputs": [],
   "source": [
    "final_df, score, LogReg_model = data_gen.gen_model(X_train, y_train)\n",
    "print(\"Score on Training Data: \", score)\n",
    "print(\"Score on Test Data: \", LogReg_model.score(X_test, y_test))"
   ]
  },
  {
   "cell_type": "markdown",
   "id": "38b797a4",
   "metadata": {},
   "source": [
    "#### Model and environment configurations"
   ]
  },
  {
   "cell_type": "code",
   "execution_count": null,
   "id": "c79e0383",
   "metadata": {},
   "outputs": [],
   "source": [
    "env_name = \"classification-v0\"\n",
    "\n",
    "epochs = 500\n",
    "\n",
    "num_timesteps = 1000\n",
    "\n",
    "env_config = {\n",
    "    'data': X_train,\n",
    "    'target': y_train,\n",
    "    'num_classes': k,\n",
    "}\n",
    "\n",
    "rl_config = dict(\n",
    "    log_level = \"ERROR\",\n",
    "    env=env_name,\n",
    "    \n",
    "    num_workers=0,\n",
    "    num_gpus=0,\n",
    "    \n",
    "    env_config=env_config,\n",
    "\n",
    "    double_q=True,\n",
    "    model=dict(\n",
    "        vf_share_layers=False,\n",
    "        fcnet_activation='relu',\n",
    "        fcnet_hiddens=[128, 64]\n",
    "    ),\n",
    "    exploration_config={\n",
    "        \"type\": \"EpsilonGreedy\",\n",
    "        \"initial_epsilon\": 1.0,\n",
    "        \"final_epsilon\": 0.02,\n",
    "        \"epsilon_timesteps\": 0.4*num_timesteps*epochs,\n",
    "    },\n",
    "    evaluation_config={\n",
    "        \"explore\": False,\n",
    "    },\n",
    "    gamma = 0.4,\n",
    "    target_network_update_freq=500,\n",
    "    buffer_size=1,\n",
    "    #adam_epsilon=1e-8,\n",
    "    #grad_clip=40,\n",
    "    train_batch_size=1,\n",
    "    framework='torch',\n",
    "    lr=1e-5\n",
    ")"
   ]
  },
  {
   "cell_type": "markdown",
   "id": "e5ae1250",
   "metadata": {},
   "source": [
    "#### Train the model "
   ]
  },
  {
   "cell_type": "code",
   "execution_count": null,
   "metadata": {},
   "outputs": [],
   "source": [
    "### Use tensorboard to monitor the training.\n",
    "\n",
    "# Comment out the below line to use the default ray results directory.\n",
    "ray_results_dir = \"./ray_results\"\n",
    "\n",
    "## On google colab, uncomment this:\n",
    "\n",
    "#%load_ext tensorboard \n",
    "#%tensorboard --logdir ~/ray_results\n",
    "\n",
    "## To run locally, paste the below command\n",
    "#  in your terminal to start the server:\n",
    "\n",
    "#tensorboard --logdir \"./ray_results\""
   ]
  },
  {
   "cell_type": "code",
   "execution_count": null,
   "id": "cdc11d99",
   "metadata": {
    "scrolled": false
   },
   "outputs": [],
   "source": [
    "# Register environment\n",
    "ray.shutdown()\n",
    "register_env(env_name, env_config)\n",
    "\n",
    "# Initialize Ray and Build Agent\n",
    "info = ray.init(num_cpus=1, num_gpus=0, ignore_reinit_error=True, log_to_driver=False)\n",
    "print(\"Dashboard URL: http://{}\".format(info[\"webui_url\"]))\n",
    "\n",
    "try:\n",
    "    ## Use this to change the directory where ray results are stored\n",
    "    agent = agents.dqn.DQNTrainer(env=env_name, config=rl_config, logger_creator=custom_log_creator(os.path.expanduser(ray_results_dir), env_name))\n",
    "except:\n",
    "    ## Use this for default ray_results storage\n",
    "    agent = agents.dqn.DQNTrainer(env=env_name, config=rl_config)\n",
    "\n",
    "\n",
    "results = []\n",
    "\n",
    "rew = np.nan\n",
    "\n",
    "pbar = tqdm(range(epochs), desc='Training Loop' )\n",
    "\n",
    "for i in pbar:\n",
    "    res = agent.train()\n",
    "    results.append(res)\n",
    "    rew = res['episode_reward_mean']\n",
    "    pbar.set_description(\"reward = %f\" % rew)\n",
    "ray.shutdown()"
   ]
  },
  {
   "cell_type": "markdown",
   "id": "29137bb6",
   "metadata": {},
   "source": [
    "#### Plot Rewards"
   ]
  },
  {
   "cell_type": "code",
   "execution_count": null,
   "id": "6f48be04",
   "metadata": {},
   "outputs": [],
   "source": [
    "import numpy as np\n",
    "import matplotlib.pyplot as plt\n",
    "\n",
    "# Unpack values from each iteration\n",
    "rewards = np.hstack([i['episode_reward_mean'] \n",
    "    for i in results])\n",
    "\n",
    "p = 50\n",
    "mean_rewards = np.array([np.mean(rewards[i-p:i+1]) \n",
    "                if i >= p else np.mean(rewards[:i+1]) \n",
    "                for i, _ in enumerate(rewards)])\n",
    "std_rewards = np.array([np.std(rewards[i-p:i+1])\n",
    "               if i >= p else np.std(rewards[:i+1])\n",
    "               for i, _ in enumerate(rewards)])\n",
    "\n",
    "plt.fill_between(np.arange(len(mean_rewards)), \n",
    "                 mean_rewards - std_rewards, \n",
    "                 mean_rewards + std_rewards, \n",
    "                 label='Standard Deviation', alpha=0.3)\n",
    "plt.plot(mean_rewards, label='Mean Rewards')\n",
    "plt.ylabel('Rewards')\n",
    "plt.xlabel('Episode')\n",
    "plt.title('Training Rewards')\n",
    "plt.legend()\n",
    "plt.savefig(\"Results_Rewards.svg\", dpi=300)\n",
    "plt.show()"
   ]
  },
  {
   "cell_type": "markdown",
   "id": "7ffbc905",
   "metadata": {},
   "source": [
    "#### Plot Loss (td error)"
   ]
  },
  {
   "cell_type": "code",
   "execution_count": null,
   "id": "c8d795cd",
   "metadata": {},
   "outputs": [],
   "source": [
    "import numpy as np\n",
    "import matplotlib.pyplot as plt\n",
    "\n",
    "# Unpack values from each iteration\n",
    "td_err = [\n",
    "    i['info']['learner']['default_policy']['mean_td_error'] \n",
    "    for i in results]\n",
    "\n",
    "\n",
    "p = 50\n",
    "\n",
    "mean_td_err = np.array([np.mean(td_err[i-p:i+1]) \n",
    "                if i >= p else np.mean(td_err[:i+1]) \n",
    "                for i, _ in enumerate(td_err)])\n",
    "std_td_err = np.array([np.std(td_err[i-p:i+1])\n",
    "               if i >= p else np.std(td_err[:i+1])\n",
    "               for i, _ in enumerate(td_err)])\n",
    "\n",
    "plt.fill_between(np.arange(len(mean_td_err)), \n",
    "                 mean_td_err - std_td_err, \n",
    "                 mean_td_err + std_td_err, \n",
    "                 label='Standard Deviation', alpha=0.3)\n",
    "plt.plot(mean_td_err, label='Mean td_err')\n",
    "plt.ylabel('td_err')\n",
    "plt.xlabel('Episode')\n",
    "plt.title('Training td_err')\n",
    "plt.legend()\n",
    "plt.savefig(\"Results_TD_err.svg\", dpi=300)\n",
    "plt.show()"
   ]
  },
  {
   "cell_type": "markdown",
   "id": "047437b2",
   "metadata": {},
   "source": [
    "#### Run the agent through the data to check output"
   ]
  },
  {
   "cell_type": "code",
   "execution_count": null,
   "id": "cae44df1",
   "metadata": {},
   "outputs": [],
   "source": [
    "## Training Data\n",
    "from sklearn.metrics import accuracy_score\n",
    "actions = []\n",
    "observations = []\n",
    "for i in range(len(X_train.index)):\n",
    "    obs = X_train.iloc[[i]].values.tolist()\n",
    "    action = agent.compute_action(obs, explore=False)\n",
    "    actions.append(action)\n",
    "\n",
    "score = accuracy_score(y_train, actions)\n",
    "print(\"Score on training data: \", score)"
   ]
  },
  {
   "cell_type": "code",
   "execution_count": null,
   "id": "971683bd",
   "metadata": {
    "scrolled": false
   },
   "outputs": [],
   "source": [
    "## Test Data\n",
    "from sklearn.metrics import accuracy_score\n",
    "actions = []\n",
    "observations = []\n",
    "for i in range(len(X_test.index)):\n",
    "    obs = X_test.iloc[[i]].values.tolist()\n",
    "    action = agent.compute_action(obs, explore=False)\n",
    "    actions.append(action)\n",
    "\n",
    "score = accuracy_score(y_test, actions)\n",
    "print(\"Score on testing data: \", score)"
   ]
  }
 ],
 "metadata": {
  "interpreter": {
   "hash": "dab403dcfa4a64bee3ff417c650bc5376500f360e3ead239cab01b685475af7b"
  },
  "kernelspec": {
   "display_name": "Python 3.8.12 64-bit (conda)",
   "name": "python3"
  },
  "language_info": {
   "codemirror_mode": {
    "name": "ipython",
    "version": 3
   },
   "file_extension": ".py",
   "mimetype": "text/x-python",
   "name": "python",
   "nbconvert_exporter": "python",
   "pygments_lexer": "ipython3",
   "version": "3.8.12"
  }
 },
 "nbformat": 4,
 "nbformat_minor": 5
}
